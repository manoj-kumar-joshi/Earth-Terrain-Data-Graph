{
 "cells": [
  {
   "cell_type": "code",
   "execution_count": null,
   "id": "28dd4d5c-919f-4f99-bcea-890c980c288e",
   "metadata": {},
   "outputs": [],
   "source": [
    "import os"
   ]
  },
  {
   "cell_type": "code",
   "execution_count": null,
   "id": "6e850ec2-58a5-4ab3-b453-6d1ccf190187",
   "metadata": {},
   "outputs": [],
   "source": [
    "# function to create the dir safely if not exist\n",
    "def Directory(dirPath):\n",
    "    #try and catch block use to handle the exceptions.\n",
    "    try:\n",
    "        # Create  Directory  MyDirectory \n",
    "        os.makedirs(dirPath)\n",
    "        #print if directory created successfully...\n",
    "        print(\"Directory Created\") \n",
    "    except FileExistsError:\n",
    "        ##print if directory already exists...\n",
    "        print(\"Directory already exists...\")\n"
   ]
  },
  {
   "cell_type": "code",
   "execution_count": null,
   "id": "0cb029f5-2952-4ab0-88bb-d4dbee929a1b",
   "metadata": {},
   "outputs": [],
   "source": [
    "#check proper directory structure as required\n",
    "dataPath = os.path.abspath(\"./Data/\")\n",
    "Directory(dataPath)\n",
    "\n",
    "final_csv = os.path.abspath(\"./Data/final_csv/\")\n",
    "Directory(final_csv)\n",
    "\n",
    "imagesPath = os.path.abspath(\"./Data/images/\")\n",
    "Directory(imagesPath)\n",
    "\n",
    "imagesPath = os.path.abspath(\"./Data/masked_images/\")\n",
    "Directory(imagesPath)\n",
    "\n",
    "tmpPath = os.path.abspath(\"./Data/tmp/\")\n",
    "Directory(tmpPath)"
   ]
  },
  {
   "cell_type": "code",
   "execution_count": null,
   "id": "cd29cfa2-1985-4d14-85f4-2bf131a47356",
   "metadata": {},
   "outputs": [],
   "source": [
    "import subprocess\n",
    "\n",
    "def runcmd(cmd, verbose = False, *args, **kwargs):\n",
    "\n",
    "    process = subprocess.Popen(\n",
    "        cmd,\n",
    "        stdout = subprocess.PIPE,\n",
    "        stderr = subprocess.PIPE,\n",
    "        text = True,\n",
    "        shell = True\n",
    "    )\n",
    "    std_out, std_err = process.communicate()\n",
    "    if verbose:\n",
    "        print(std_out.strip(), std_err)\n",
    "    pass"
   ]
  },
  {
   "cell_type": "code",
   "execution_count": null,
   "id": "7bb35ffb-5f88-42a7-b95e-4bef751ecf5c",
   "metadata": {},
   "outputs": [],
   "source": [
    "#download raster containing redband and near infrared band\n",
    "download_folder = os.path.abspath(\"./Data/images/\")\n",
    "runcmd(f'wget -P {download_folder} --no-check-certificate https://demo.electronbridge.com/os/images/T10SGC_20220307T184229_B04.jp2', verbose = True)\n",
    "runcmd(f'wget -P {download_folder} --no-check-certificate https://demo.electronbridge.com/os/images/T10SGC_20220307T184229_B08.jp2', verbose = True)"
   ]
  },
  {
   "cell_type": "code",
   "execution_count": null,
   "id": "af961d21-8105-4c47-b8d6-ee9c6f324ca4",
   "metadata": {},
   "outputs": [],
   "source": [
    "#download pre-build csvs df_dem_nodes_res_10.csv,df_dem_nodes_res_11.csv and df_dem_nodes_res_12.csv\n",
    "download_folder = os.path.abspath(\"./Data/final_csv/\")\n",
    "runcmd(f'wget -P {download_folder} --no-check-certificate https://demo.electronbridge.com/os/csv/df_dem_nodes_res_10.csv', verbose = True)\n",
    "runcmd(f'wget -P {download_folder} --no-check-certificate https://demo.electronbridge.com/os/csv/df_dem_nodes_res_11.csv', verbose = True)\n",
    "runcmd(f'wget -P {download_folder} --no-check-certificate https://demo.electronbridge.com/os/csv/df_dem_nodes_res_12.csv', verbose = True)"
   ]
  }
 ],
 "metadata": {
  "interpreter": {
   "hash": "470ee29b50b880f33ea2e0c76c74beaba2f7fc3e2803ecc6f10e67f5906740a8"
  },
  "kernelspec": {
   "display_name": "conda_py_3.9",
   "language": "python",
   "name": "python3"
  },
  "language_info": {
   "codemirror_mode": {
    "name": "ipython",
    "version": 3
   },
   "file_extension": ".py",
   "mimetype": "text/x-python",
   "name": "python",
   "nbconvert_exporter": "python",
   "pygments_lexer": "ipython3",
   "version": "3.8.10"
  }
 },
 "nbformat": 4,
 "nbformat_minor": 5
}
