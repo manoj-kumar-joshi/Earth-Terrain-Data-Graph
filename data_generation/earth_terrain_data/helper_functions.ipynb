{
 "cells": [
  {
   "cell_type": "code",
   "execution_count": 3,
   "id": "819a2a49-c0d9-4c1a-85bb-9f1eaf276613",
   "metadata": {},
   "outputs": [],
   "source": [
    "from osgeo import gdal\n",
    "import rasterio\n",
    "import json"
   ]
  },
  {
   "cell_type": "code",
   "execution_count": null,
   "id": "e825673b-8389-43d1-a381-db6f241edae4",
   "metadata": {},
   "outputs": [],
   "source": []
  },
  {
   "cell_type": "code",
   "execution_count": null,
   "id": "f16ded47-4be3-4531-8468-223553ef2c87",
   "metadata": {},
   "outputs": [],
   "source": []
  },
  {
   "cell_type": "markdown",
   "id": "9017d745-d2c3-47d3-8599-f4dbb161a908",
   "metadata": {},
   "source": [
    "#### Preprocessing functions"
   ]
  },
  {
   "cell_type": "code",
   "execution_count": 1,
   "id": "bd33373d-b07a-40f3-bf12-582a706b4f17",
   "metadata": {},
   "outputs": [],
   "source": [
    "# Function for getting MetaData of the file\n",
    "def get_metadata(src,name):\n",
    "    name = name.split(\".\")[0]\n",
    "    height = src.height\n",
    "    width = src.width\n",
    "    band_count = src.count\n",
    "    driver = src.driver\n",
    "    dtype = src.meta['dtype']\n",
    "    nodata = src.meta['nodata']\n",
    "    affine = {\n",
    "                \"a\":src.transform.a,\n",
    "                \"b\": src.transform.b,\n",
    "                \"c\": src.transform.c,\n",
    "                \"d\": src.transform.d,\n",
    "                \"e\": src.transform.e,\n",
    "                \"f\": src.transform.f\n",
    "            }\n",
    "\n",
    "    #getting crs\n",
    "    crs_temp = src.crs.to_string()\n",
    "    \n",
    "    #getting bounds\n",
    "    bounds = {\n",
    "        \"bottom\": src.bounds.bottom,\n",
    "        \"top\":src.bounds.top,\n",
    "        \"left\":src.bounds.left,\n",
    "        \"right\":src.bounds.right\n",
    "    }\n",
    "    metadata = {\n",
    "        \"height\":height,\n",
    "        \"width\":width,\n",
    "        \"crs\":crs_temp,\n",
    "        \"bounds\":json.dumps(bounds),\n",
    "        \"band_count\":band_count,\n",
    "        \"driver\":driver,\n",
    "        \"dtype\":dtype,\n",
    "        \"nodata\":nodata,\n",
    "        \"name\":name,\n",
    "        \"affine\":json.dumps(affine),\n",
    "\n",
    "    }\n",
    "    return metadata\n"
   ]
  },
  {
   "cell_type": "code",
   "execution_count": 2,
   "id": "aca4f59e-25ce-4bb8-9f2b-c2d41fa2db8c",
   "metadata": {},
   "outputs": [],
   "source": [
    "def check_in_correct_crs(metadata):\n",
    "    crs = metadata['crs']\n",
    "\n",
    "    if crs.lower() == \"epsg:4326\":\n",
    "        return True\n",
    "    else:\n",
    "        return False"
   ]
  },
  {
   "cell_type": "code",
   "execution_count": null,
   "id": "e5451e7f-da5f-4ec4-ac6d-466ef6657ce3",
   "metadata": {},
   "outputs": [],
   "source": [
    "#Do reprojection of the image to EPSG:4326 crs format and return the new file path\n",
    "def do_reprojection(input_path):\n",
    "    dst_crs = 'EPSG:4326'\n",
    "    if not os.path.exists(os.path.join(os.path.abspath(os.getcwd()),\"temp\")):\n",
    "        os.mkdir(os.path.join(os.path.abspath(os.getcwd()),\"temp\"))\n",
    "\n",
    "    output_path = os.path.join(os.path.join(os.path.abspath(os.getcwd()),\"temp\"),os.path.basename(input_path))\n",
    "    \n",
    "    filename = input_path\n",
    "    input_raster = gdal.Open(filename)\n",
    "    output_raster = output_path\n",
    "    gdal.Warp(output_raster,input_raster,dstSRS=dst_crs)\n",
    "\n",
    "    return output_path\n"
   ]
  }
 ],
 "metadata": {
  "kernelspec": {
   "display_name": "conda_py_3.9",
   "language": "python",
   "name": "conda_py_3.9"
  },
  "language_info": {
   "codemirror_mode": {
    "name": "ipython",
    "version": 3
   },
   "file_extension": ".py",
   "mimetype": "text/x-python",
   "name": "python",
   "nbconvert_exporter": "python",
   "pygments_lexer": "ipython3",
   "version": "3.9.11"
  }
 },
 "nbformat": 4,
 "nbformat_minor": 5
}
