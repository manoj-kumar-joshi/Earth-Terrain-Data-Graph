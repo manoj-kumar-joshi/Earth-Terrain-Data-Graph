{
 "cells": [
  {
   "cell_type": "code",
   "execution_count": 1,
   "id": "5c45c089-bff3-4683-9350-1f7719e0d457",
   "metadata": {},
   "outputs": [],
   "source": [
    "import pandas as pd\n",
    "import h3\n",
    "import os"
   ]
  },
  {
   "cell_type": "code",
   "execution_count": 29,
   "id": "845c6938-91c4-4c82-8d79-f7bb0c926612",
   "metadata": {},
   "outputs": [],
   "source": [
    "from osgeo import gdal\n",
    "import rasterio\n",
    "import json\n",
    "from rasterio.windows import from_bounds\n",
    "from rasterio.enums import Resampling\n",
    "from shapely.wkt import loads\n",
    "import geopandas as gpd"
   ]
  },
  {
   "cell_type": "code",
   "execution_count": 7,
   "id": "16a899b0-be06-4939-8f60-b41866275aeb",
   "metadata": {},
   "outputs": [],
   "source": [
    "%run helper_functions.ipynb"
   ]
  },
  {
   "cell_type": "code",
   "execution_count": 36,
   "id": "339d626f-5774-4037-98d5-f904a369b1dc",
   "metadata": {},
   "outputs": [],
   "source": [
    "%run gdal2xyz.ipynb"
   ]
  },
  {
   "cell_type": "code",
   "execution_count": null,
   "id": "4e28e37f-f902-44f6-96c0-9776f7260c22",
   "metadata": {},
   "outputs": [],
   "source": []
  },
  {
   "cell_type": "code",
   "execution_count": 51,
   "id": "b70f3b5f-5dcb-4a18-8136-d0bc8281bc3f",
   "metadata": {},
   "outputs": [],
   "source": [
    "def calc_df_dem_edges(h3_id):\n",
    "    neighbour_hexid_set = h3.hex_ring(h3_id, 1)\n",
    "    for neighbour_hexid in neighbour_hexid_set:\n",
    "        tmp_unidirectional_edge = h3.get_h3_unidirectional_edge(h3_id,neighbour_hexid)\n",
    "        return {'org_hexid': h3_id,'dest_hex_id':neighbour_hexid,'unidirectional_edge_id':tmp_unidirectional_edge}"
   ]
  },
  {
   "cell_type": "code",
   "execution_count": null,
   "id": "bad5675d-e8e1-41ca-8351-a58e2a218bbe",
   "metadata": {},
   "outputs": [],
   "source": []
  },
  {
   "cell_type": "code",
   "execution_count": 56,
   "id": "81ce0e06-4904-40c0-9196-5288ccd811aa",
   "metadata": {},
   "outputs": [],
   "source": [
    "def get_nodes_edges(res):\n",
    "    ## Load Santa Rosa Island Road hex data\n",
    "    df_santa_rosa_roads = pd.read_csv(f\"../Data/final_csv/santa_rosa_roads_hexid_res_{res}.csv\",usecols = ['name','highway','hex_id'])\n",
    "    df_dem_nodes = pd.read_csv(f\"../Data/final_csv/df_dem_nodes_res_{res}.csv\",usecols = ['h3_id','avg_ele','stddev_ele'])\n",
    "    \n",
    "    print(\"merging santa rosa roads and dem_nodes data for res:\" +str(res))\n",
    "    \n",
    "    df_dem_nodes_new = pd.merge(df_dem_nodes,df_santa_rosa_roads,left_on='h3_id',right_on='hex_id'\n",
    "                                ,how='left')[['h3_id', 'avg_ele', 'stddev_ele','highway','name']]\n",
    "    \n",
    "    df_ndvi = pd.read_csv(f\"../Data/final_csv/ndvi_res_{res}.csv\",usecols = ['lng','lat','h3_index','ndvi'])\n",
    "    df_ndvi.rename(columns ={\"h3_index\":\"h3_id\",\"ndvi\":\"av_ndvi\"},inplace = True)\n",
    "    df_ndvi = df_ndvi[['h3_id','av_ndvi']]\n",
    "    \n",
    "    print(\"merging result of the above with ndvi data for res:\" +str(res))\n",
    "    \n",
    "    df_dem_nodes_new = pd.merge(df_dem_nodes_new,df_ndvi,left_on='h3_id',right_on='h3_id'\n",
    "                                ,how='left')[['h3_id', 'avg_ele', 'stddev_ele','highway','name','av_ndvi']]\n",
    "    \n",
    "    df_dem_edges = pd.DataFrame(columns = ['org_hexid', 'dest_hex_id','unidirectional_edge_id'])\n",
    "    neighbour_hexid_set = []\n",
    "    \n",
    "    print(\"calculating unidirectional edges for res: \" + str(res))\n",
    "    \n",
    "    for row in df_dem_nodes_new.itertuples(index=True, name='Pandas'):\n",
    "        neighbour_hexid_set.extend(list(h3.get_h3_unidirectional_edges_from_hexagon(row.h3_id)))\n",
    "        \n",
    "    df_dem_edges = df_dem_edges.append(pd.DataFrame( neighbour_hexid_set,columns=[ 'unidirectional_edge_id']), ignore_index = True)\n",
    "    \n",
    "    print(\"calculating origin hexid for edges for res: \" + str(res))\n",
    "    df_dem_edges['org_hexid'] = df_dem_edges.apply(lambda x: h3.get_origin_h3_index_from_unidirectional_edge(x.unidirectional_edge_id),1)  \n",
    "    \n",
    "    print(\"calculating destination hexid for edges for res: \" + str(res))\n",
    "    df_dem_edges['dest_hex_id'] = df_dem_edges.apply(lambda x: h3.get_destination_h3_index_from_unidirectional_edge(x.unidirectional_edge_id),1)\n",
    "    \n",
    "    return df_dem_nodes_new,df_dem_edges"
   ]
  },
  {
   "cell_type": "code",
   "execution_count": null,
   "id": "35a81721-8e6a-4d81-9e71-4a3e14ca647a",
   "metadata": {},
   "outputs": [],
   "source": []
  },
  {
   "cell_type": "code",
   "execution_count": 57,
   "id": "06c7c666-8f1d-453a-ab10-56a0aa836260",
   "metadata": {},
   "outputs": [
    {
     "name": "stdout",
     "output_type": "stream",
     "text": [
      "merging santa rosa roads and dem_nodes data for res:10\n",
      "merging result of the above with ndvi data for res:10\n",
      "calculating unidirectional edges for res: 10\n"
     ]
    },
    {
     "name": "stderr",
     "output_type": "stream",
     "text": [
      "/tmp/ipykernel_15743/2706968019.py:28: FutureWarning: The frame.append method is deprecated and will be removed from pandas in a future version. Use pandas.concat instead.\n",
      "  df_dem_edges = df_dem_edges.append(pd.DataFrame( neighbour_hexid_set,columns=[ 'unidirectional_edge_id']), ignore_index = True)\n"
     ]
    },
    {
     "name": "stdout",
     "output_type": "stream",
     "text": [
      "calculating origin hexid for edges for res: 10\n",
      "calculating destination hexid for edges for res: 10\n"
     ]
    }
   ],
   "source": [
    "df_dem_nodes_new_10,df_dem_edges_10 = get_nodes_edges(10)"
   ]
  },
  {
   "cell_type": "code",
   "execution_count": 59,
   "id": "6b0bea82-dab3-4401-be9d-f4465cd3dda1",
   "metadata": {},
   "outputs": [],
   "source": [
    "df_dem_nodes_new_10.to_csv(\"../Data/final_csv/dem_nodes_res_10.csv\")\n",
    "df_dem_edges_10.to_csv(\"../Data/final_csv/dem_edges_res_10.csv\")\n",
    "df_dem_nodes_new_10 = None\n",
    "df_dem_edges_10 = None"
   ]
  },
  {
   "cell_type": "code",
   "execution_count": null,
   "id": "0e55944e-18a0-44f5-b1b4-880fcc96c5e1",
   "metadata": {},
   "outputs": [],
   "source": []
  },
  {
   "cell_type": "code",
   "execution_count": 60,
   "id": "493b817b-e1f1-4c13-8fdf-7b5efa7c1342",
   "metadata": {},
   "outputs": [
    {
     "name": "stdout",
     "output_type": "stream",
     "text": [
      "merging santa rosa roads and dem_nodes data for res:11\n",
      "merging result of the above with ndvi data for res:11\n",
      "calculating unidirectional edges for res: 11\n"
     ]
    },
    {
     "name": "stderr",
     "output_type": "stream",
     "text": [
      "/tmp/ipykernel_15743/2706968019.py:28: FutureWarning: The frame.append method is deprecated and will be removed from pandas in a future version. Use pandas.concat instead.\n",
      "  df_dem_edges = df_dem_edges.append(pd.DataFrame( neighbour_hexid_set,columns=[ 'unidirectional_edge_id']), ignore_index = True)\n"
     ]
    },
    {
     "name": "stdout",
     "output_type": "stream",
     "text": [
      "calculating origin hexid for edges for res: 11\n",
      "calculating destination hexid for edges for res: 11\n"
     ]
    }
   ],
   "source": [
    "df_dem_nodes_new_11,df_dem_edges_11 = get_nodes_edges(11)"
   ]
  },
  {
   "cell_type": "code",
   "execution_count": 61,
   "id": "fd677b2a-3507-4c8f-bd1d-82ecf10782ab",
   "metadata": {},
   "outputs": [],
   "source": [
    "df_dem_nodes_new_11.to_csv(\"../Data/final_csv/dem_nodes_res_11.csv\")\n",
    "df_dem_edges_11.to_csv(\"../Data/final_csv/dem_edges_res_11.csv\")\n",
    "df_dem_nodes_new_11 = None\n",
    "df_dem_edges_11 = None"
   ]
  },
  {
   "cell_type": "code",
   "execution_count": null,
   "id": "e90b9ea7-a2e3-46b3-81c3-947785281585",
   "metadata": {},
   "outputs": [],
   "source": []
  },
  {
   "cell_type": "code",
   "execution_count": 62,
   "id": "56e8842c-1808-40e3-b383-0ebe50801726",
   "metadata": {},
   "outputs": [
    {
     "name": "stdout",
     "output_type": "stream",
     "text": [
      "merging santa rosa roads and dem_nodes data for res:12\n",
      "merging result of the above with ndvi data for res:12\n",
      "calculating unidirectional edges for res: 12\n"
     ]
    },
    {
     "name": "stderr",
     "output_type": "stream",
     "text": [
      "/tmp/ipykernel_15743/2706968019.py:28: FutureWarning: The frame.append method is deprecated and will be removed from pandas in a future version. Use pandas.concat instead.\n",
      "  df_dem_edges = df_dem_edges.append(pd.DataFrame( neighbour_hexid_set,columns=[ 'unidirectional_edge_id']), ignore_index = True)\n"
     ]
    },
    {
     "name": "stdout",
     "output_type": "stream",
     "text": [
      "calculating origin hexid for edges for res: 12\n",
      "calculating destination hexid for edges for res: 12\n"
     ]
    }
   ],
   "source": [
    "df_dem_nodes_new_12,df_dem_edges_12 = get_nodes_edges(12)"
   ]
  },
  {
   "cell_type": "code",
   "execution_count": 63,
   "id": "1a85fae8-4c75-4c9f-88b6-6cc890272111",
   "metadata": {},
   "outputs": [],
   "source": [
    "df_dem_nodes_new_12.to_csv(\"../Data/final_csv/dem_nodes_res_12.csv\")\n",
    "df_dem_edges_12.to_csv(\"../Data/final_csv/dem_edges_res_12.csv\")\n",
    "df_dem_nodes_new_12 = None\n",
    "df_dem_edges_12 = None"
   ]
  },
  {
   "cell_type": "code",
   "execution_count": null,
   "id": "2235b6d7-f791-4d9d-8218-225926b5c449",
   "metadata": {},
   "outputs": [],
   "source": []
  }
 ],
 "metadata": {
  "kernelspec": {
   "display_name": "conda_py_3.9",
   "language": "python",
   "name": "conda_py_3.9"
  },
  "language_info": {
   "codemirror_mode": {
    "name": "ipython",
    "version": 3
   },
   "file_extension": ".py",
   "mimetype": "text/x-python",
   "name": "python",
   "nbconvert_exporter": "python",
   "pygments_lexer": "ipython3",
   "version": "3.9.11"
  }
 },
 "nbformat": 4,
 "nbformat_minor": 5
}
