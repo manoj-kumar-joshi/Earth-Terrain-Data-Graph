{
 "cells": [
  {
   "cell_type": "code",
   "execution_count": 1,
   "id": "5012754b-9951-4316-9b51-5a0bc63586e0",
   "metadata": {},
   "outputs": [],
   "source": [
    "import h3\n",
    "import osmnx as ox\n",
    "import matplotlib.pyplot as plt"
   ]
  },
  {
   "cell_type": "code",
   "execution_count": 2,
   "id": "cf30f3f7-f007-42ae-9906-8efc6556b8ad",
   "metadata": {},
   "outputs": [],
   "source": [
    "place_name = \"Santa Rosa Island\""
   ]
  },
  {
   "cell_type": "code",
   "execution_count": 3,
   "id": "f003c155-259a-40f0-b046-3e14794016e7",
   "metadata": {},
   "outputs": [],
   "source": [
    "resolution = 10"
   ]
  },
  {
   "cell_type": "code",
   "execution_count": 4,
   "id": "bfd936af-741e-4848-9089-d6fb2784b03f",
   "metadata": {},
   "outputs": [
    {
     "name": "stderr",
     "output_type": "stream",
     "text": [
      "/root/anaconda3/envs/conda_py_3.9/lib/python3.9/site-packages/osmnx/geocoder.py:110: FutureWarning: The frame.append method is deprecated and will be removed from pandas in a future version. Use pandas.concat instead.\n",
      "  gdf = gdf.append(_geocode_query_to_gdf(q, wr, by_osmid))\n"
     ]
    }
   ],
   "source": [
    "graph_roads = ox.graph_from_place(place_name)"
   ]
  },
  {
   "cell_type": "code",
   "execution_count": 5,
   "id": "11a1c768-79b6-47e5-a4db-5eec26798ed7",
   "metadata": {},
   "outputs": [],
   "source": [
    "nodes, edges_original = ox.graph_to_gdfs(graph_roads)"
   ]
  },
  {
   "cell_type": "code",
   "execution_count": 6,
   "id": "4cb9e0f9-5084-475a-bc6c-d61047c05265",
   "metadata": {},
   "outputs": [
    {
     "data": {
      "text/html": [
       "<div>\n",
       "<style scoped>\n",
       "    .dataframe tbody tr th:only-of-type {\n",
       "        vertical-align: middle;\n",
       "    }\n",
       "\n",
       "    .dataframe tbody tr th {\n",
       "        vertical-align: top;\n",
       "    }\n",
       "\n",
       "    .dataframe thead th {\n",
       "        text-align: right;\n",
       "    }\n",
       "</style>\n",
       "<table border=\"1\" class=\"dataframe\">\n",
       "  <thead>\n",
       "    <tr style=\"text-align: right;\">\n",
       "      <th></th>\n",
       "      <th></th>\n",
       "      <th></th>\n",
       "      <th>osmid</th>\n",
       "      <th>name</th>\n",
       "      <th>highway</th>\n",
       "      <th>oneway</th>\n",
       "      <th>length</th>\n",
       "      <th>geometry</th>\n",
       "    </tr>\n",
       "    <tr>\n",
       "      <th>u</th>\n",
       "      <th>v</th>\n",
       "      <th>key</th>\n",
       "      <th></th>\n",
       "      <th></th>\n",
       "      <th></th>\n",
       "      <th></th>\n",
       "      <th></th>\n",
       "      <th></th>\n",
       "    </tr>\n",
       "  </thead>\n",
       "  <tbody>\n",
       "    <tr>\n",
       "      <th rowspan=\"3\" valign=\"top\">164742909</th>\n",
       "      <th>165088785</th>\n",
       "      <th>0</th>\n",
       "      <td>16219503</td>\n",
       "      <td>Main Road</td>\n",
       "      <td>track</td>\n",
       "      <td>False</td>\n",
       "      <td>1497.178</td>\n",
       "      <td>LINESTRING (-120.11482 33.94541, -120.11479 33...</td>\n",
       "    </tr>\n",
       "    <tr>\n",
       "      <th>164743230</th>\n",
       "      <th>0</th>\n",
       "      <td>16219503</td>\n",
       "      <td>Main Road</td>\n",
       "      <td>track</td>\n",
       "      <td>False</td>\n",
       "      <td>2593.103</td>\n",
       "      <td>LINESTRING (-120.11482 33.94541, -120.11482 33...</td>\n",
       "    </tr>\n",
       "    <tr>\n",
       "      <th>1133403183</th>\n",
       "      <th>0</th>\n",
       "      <td>16237006</td>\n",
       "      <td>Burma Road</td>\n",
       "      <td>track</td>\n",
       "      <td>False</td>\n",
       "      <td>2042.450</td>\n",
       "      <td>LINESTRING (-120.11482 33.94541, -120.11496 33...</td>\n",
       "    </tr>\n",
       "    <tr>\n",
       "      <th rowspan=\"2\" valign=\"top\">164743230</th>\n",
       "      <th>164742909</th>\n",
       "      <th>0</th>\n",
       "      <td>16219503</td>\n",
       "      <td>Main Road</td>\n",
       "      <td>track</td>\n",
       "      <td>False</td>\n",
       "      <td>2593.103</td>\n",
       "      <td>LINESTRING (-120.11706 33.92414, -120.11700 33...</td>\n",
       "    </tr>\n",
       "    <tr>\n",
       "      <th>164743307</th>\n",
       "      <th>0</th>\n",
       "      <td>16219503</td>\n",
       "      <td>Main Road</td>\n",
       "      <td>track</td>\n",
       "      <td>False</td>\n",
       "      <td>452.547</td>\n",
       "      <td>LINESTRING (-120.11706 33.92414, -120.11716 33...</td>\n",
       "    </tr>\n",
       "  </tbody>\n",
       "</table>\n",
       "</div>"
      ],
      "text/plain": [
       "                             osmid        name highway  oneway    length  \\\n",
       "u         v          key                                                   \n",
       "164742909 165088785  0    16219503   Main Road   track   False  1497.178   \n",
       "          164743230  0    16219503   Main Road   track   False  2593.103   \n",
       "          1133403183 0    16237006  Burma Road   track   False  2042.450   \n",
       "164743230 164742909  0    16219503   Main Road   track   False  2593.103   \n",
       "          164743307  0    16219503   Main Road   track   False   452.547   \n",
       "\n",
       "                                                                   geometry  \n",
       "u         v          key                                                     \n",
       "164742909 165088785  0    LINESTRING (-120.11482 33.94541, -120.11479 33...  \n",
       "          164743230  0    LINESTRING (-120.11482 33.94541, -120.11482 33...  \n",
       "          1133403183 0    LINESTRING (-120.11482 33.94541, -120.11496 33...  \n",
       "164743230 164742909  0    LINESTRING (-120.11706 33.92414, -120.11700 33...  \n",
       "          164743307  0    LINESTRING (-120.11706 33.92414, -120.11716 33...  "
      ]
     },
     "execution_count": 6,
     "metadata": {},
     "output_type": "execute_result"
    }
   ],
   "source": [
    "edges_original.head()"
   ]
  },
  {
   "cell_type": "code",
   "execution_count": 7,
   "id": "44da60ad-7828-460e-b0fd-69011a38db5c",
   "metadata": {},
   "outputs": [
    {
     "data": {
      "text/html": [
       "<div>\n",
       "<style scoped>\n",
       "    .dataframe tbody tr th:only-of-type {\n",
       "        vertical-align: middle;\n",
       "    }\n",
       "\n",
       "    .dataframe tbody tr th {\n",
       "        vertical-align: top;\n",
       "    }\n",
       "\n",
       "    .dataframe thead th {\n",
       "        text-align: right;\n",
       "    }\n",
       "</style>\n",
       "<table border=\"1\" class=\"dataframe\">\n",
       "  <thead>\n",
       "    <tr style=\"text-align: right;\">\n",
       "      <th></th>\n",
       "      <th>u</th>\n",
       "      <th>v</th>\n",
       "      <th>key</th>\n",
       "      <th>osmid</th>\n",
       "      <th>name</th>\n",
       "      <th>highway</th>\n",
       "      <th>oneway</th>\n",
       "      <th>length</th>\n",
       "      <th>geometry</th>\n",
       "    </tr>\n",
       "  </thead>\n",
       "  <tbody>\n",
       "    <tr>\n",
       "      <th>0</th>\n",
       "      <td>164742909</td>\n",
       "      <td>165088785</td>\n",
       "      <td>0</td>\n",
       "      <td>16219503</td>\n",
       "      <td>Main Road</td>\n",
       "      <td>track</td>\n",
       "      <td>False</td>\n",
       "      <td>1497.178</td>\n",
       "      <td>LINESTRING (-120.11482 33.94541, -120.11479 33...</td>\n",
       "    </tr>\n",
       "    <tr>\n",
       "      <th>1</th>\n",
       "      <td>164742909</td>\n",
       "      <td>164743230</td>\n",
       "      <td>0</td>\n",
       "      <td>16219503</td>\n",
       "      <td>Main Road</td>\n",
       "      <td>track</td>\n",
       "      <td>False</td>\n",
       "      <td>2593.103</td>\n",
       "      <td>LINESTRING (-120.11482 33.94541, -120.11482 33...</td>\n",
       "    </tr>\n",
       "    <tr>\n",
       "      <th>2</th>\n",
       "      <td>164742909</td>\n",
       "      <td>1133403183</td>\n",
       "      <td>0</td>\n",
       "      <td>16237006</td>\n",
       "      <td>Burma Road</td>\n",
       "      <td>track</td>\n",
       "      <td>False</td>\n",
       "      <td>2042.450</td>\n",
       "      <td>LINESTRING (-120.11482 33.94541, -120.11496 33...</td>\n",
       "    </tr>\n",
       "    <tr>\n",
       "      <th>3</th>\n",
       "      <td>164743230</td>\n",
       "      <td>164742909</td>\n",
       "      <td>0</td>\n",
       "      <td>16219503</td>\n",
       "      <td>Main Road</td>\n",
       "      <td>track</td>\n",
       "      <td>False</td>\n",
       "      <td>2593.103</td>\n",
       "      <td>LINESTRING (-120.11706 33.92414, -120.11700 33...</td>\n",
       "    </tr>\n",
       "    <tr>\n",
       "      <th>4</th>\n",
       "      <td>164743230</td>\n",
       "      <td>164743307</td>\n",
       "      <td>0</td>\n",
       "      <td>16219503</td>\n",
       "      <td>Main Road</td>\n",
       "      <td>track</td>\n",
       "      <td>False</td>\n",
       "      <td>452.547</td>\n",
       "      <td>LINESTRING (-120.11706 33.92414, -120.11716 33...</td>\n",
       "    </tr>\n",
       "  </tbody>\n",
       "</table>\n",
       "</div>"
      ],
      "text/plain": [
       "           u           v  key     osmid        name highway  oneway    length  \\\n",
       "0  164742909   165088785    0  16219503   Main Road   track   False  1497.178   \n",
       "1  164742909   164743230    0  16219503   Main Road   track   False  2593.103   \n",
       "2  164742909  1133403183    0  16237006  Burma Road   track   False  2042.450   \n",
       "3  164743230   164742909    0  16219503   Main Road   track   False  2593.103   \n",
       "4  164743230   164743307    0  16219503   Main Road   track   False   452.547   \n",
       "\n",
       "                                            geometry  \n",
       "0  LINESTRING (-120.11482 33.94541, -120.11479 33...  \n",
       "1  LINESTRING (-120.11482 33.94541, -120.11482 33...  \n",
       "2  LINESTRING (-120.11482 33.94541, -120.11496 33...  \n",
       "3  LINESTRING (-120.11706 33.92414, -120.11700 33...  \n",
       "4  LINESTRING (-120.11706 33.92414, -120.11716 33...  "
      ]
     },
     "execution_count": 7,
     "metadata": {},
     "output_type": "execute_result"
    }
   ],
   "source": [
    "edges_original = edges_original.reset_index()\n",
    "edges_original.head()"
   ]
  },
  {
   "cell_type": "code",
   "execution_count": 8,
   "id": "458f3b3b-9568-4351-8018-1ecd210d12ce",
   "metadata": {},
   "outputs": [
    {
     "data": {
      "text/html": [
       "<div>\n",
       "<style scoped>\n",
       "    .dataframe tbody tr th:only-of-type {\n",
       "        vertical-align: middle;\n",
       "    }\n",
       "\n",
       "    .dataframe tbody tr th {\n",
       "        vertical-align: top;\n",
       "    }\n",
       "\n",
       "    .dataframe thead th {\n",
       "        text-align: right;\n",
       "    }\n",
       "</style>\n",
       "<table border=\"1\" class=\"dataframe\">\n",
       "  <thead>\n",
       "    <tr style=\"text-align: right;\">\n",
       "      <th></th>\n",
       "      <th>geometry</th>\n",
       "      <th>name</th>\n",
       "      <th>highway</th>\n",
       "    </tr>\n",
       "  </thead>\n",
       "  <tbody>\n",
       "    <tr>\n",
       "      <th>0</th>\n",
       "      <td>LINESTRING (-120.11482 33.94541, -120.11479 33...</td>\n",
       "      <td>Main Road</td>\n",
       "      <td>track</td>\n",
       "    </tr>\n",
       "    <tr>\n",
       "      <th>1</th>\n",
       "      <td>LINESTRING (-120.11482 33.94541, -120.11482 33...</td>\n",
       "      <td>Main Road</td>\n",
       "      <td>track</td>\n",
       "    </tr>\n",
       "    <tr>\n",
       "      <th>2</th>\n",
       "      <td>LINESTRING (-120.11482 33.94541, -120.11496 33...</td>\n",
       "      <td>Burma Road</td>\n",
       "      <td>track</td>\n",
       "    </tr>\n",
       "    <tr>\n",
       "      <th>3</th>\n",
       "      <td>LINESTRING (-120.11706 33.92414, -120.11700 33...</td>\n",
       "      <td>Main Road</td>\n",
       "      <td>track</td>\n",
       "    </tr>\n",
       "    <tr>\n",
       "      <th>4</th>\n",
       "      <td>LINESTRING (-120.11706 33.92414, -120.11716 33...</td>\n",
       "      <td>Main Road</td>\n",
       "      <td>track</td>\n",
       "    </tr>\n",
       "  </tbody>\n",
       "</table>\n",
       "</div>"
      ],
      "text/plain": [
       "                                            geometry        name highway\n",
       "0  LINESTRING (-120.11482 33.94541, -120.11479 33...   Main Road   track\n",
       "1  LINESTRING (-120.11482 33.94541, -120.11482 33...   Main Road   track\n",
       "2  LINESTRING (-120.11482 33.94541, -120.11496 33...  Burma Road   track\n",
       "3  LINESTRING (-120.11706 33.92414, -120.11700 33...   Main Road   track\n",
       "4  LINESTRING (-120.11706 33.92414, -120.11716 33...   Main Road   track"
      ]
     },
     "execution_count": 8,
     "metadata": {},
     "output_type": "execute_result"
    }
   ],
   "source": [
    "cols = ['geometry', 'name', 'highway']\n",
    "edges_original = edges_original[cols]\n",
    "edges_original.head()"
   ]
  },
  {
   "cell_type": "code",
   "execution_count": 9,
   "id": "967739ab-3b02-4ea7-b100-4ec5120256da",
   "metadata": {},
   "outputs": [
    {
     "data": {
      "text/plain": [
       "<Geographic 2D CRS: EPSG:4326>\n",
       "Name: WGS 84\n",
       "Axis Info [ellipsoidal]:\n",
       "- Lat[north]: Geodetic latitude (degree)\n",
       "- Lon[east]: Geodetic longitude (degree)\n",
       "Area of Use:\n",
       "- name: World.\n",
       "- bounds: (-180.0, -90.0, 180.0, 90.0)\n",
       "Datum: World Geodetic System 1984\n",
       "- Ellipsoid: WGS 84\n",
       "- Prime Meridian: Greenwich"
      ]
     },
     "execution_count": 9,
     "metadata": {},
     "output_type": "execute_result"
    }
   ],
   "source": [
    "edges_original.crs"
   ]
  },
  {
   "cell_type": "code",
   "execution_count": 10,
   "id": "b727fc19-c0dc-492d-b9a8-415214ecc46f",
   "metadata": {},
   "outputs": [],
   "source": [
    "geometries = edges_original['geometry'].to_list()"
   ]
  },
  {
   "cell_type": "code",
   "execution_count": 11,
   "id": "99b272e9-08bd-4322-9587-06c7f69fddd8",
   "metadata": {},
   "outputs": [
    {
     "data": {
      "text/plain": [
       "304"
      ]
     },
     "execution_count": 11,
     "metadata": {},
     "output_type": "execute_result"
    }
   ],
   "source": [
    "len(geometries)"
   ]
  },
  {
   "cell_type": "code",
   "execution_count": 12,
   "id": "7579cfaa-886a-47c6-bb1e-4912ac81cdfa",
   "metadata": {},
   "outputs": [],
   "source": [
    "from shapely.geometry import Point\n",
    "from shapely.geometry import LineString\n",
    "import pyomnisci as po\n",
    "import os\n",
    "import pandas as pd\n",
    "from shapely.geometry import Polygon\n",
    "from shapely import wkt"
   ]
  },
  {
   "cell_type": "code",
   "execution_count": 13,
   "id": "16608c80-4460-490f-b5db-728c17174d42",
   "metadata": {},
   "outputs": [],
   "source": [
    "def linestring_to_points(line):\n",
    "    return line.coords"
   ]
  },
  {
   "cell_type": "code",
   "execution_count": 14,
   "id": "2ae7851b-2349-4b2f-9fa0-2faedbf8e4b4",
   "metadata": {},
   "outputs": [],
   "source": [
    "def get_geometry(h3_hex):\n",
    "    points = h3.h3_to_geo_boundary(h3_hex, True)\n",
    "    return Polygon(points)"
   ]
  },
  {
   "cell_type": "code",
   "execution_count": 15,
   "id": "6938885b-1641-4bb3-b71b-be505eb58f9a",
   "metadata": {},
   "outputs": [],
   "source": []
  },
  {
   "cell_type": "code",
   "execution_count": null,
   "id": "355c67d7-bc80-4987-a46f-dcb2c3bab555",
   "metadata": {},
   "outputs": [],
   "source": []
  },
  {
   "cell_type": "code",
   "execution_count": 18,
   "id": "9a7b23dd-c00d-45b1-814e-047fed3e2a4f",
   "metadata": {},
   "outputs": [],
   "source": [
    "import warnings\n",
    "warnings.simplefilter(action='ignore', category=FutureWarning)\n",
    "warnings.simplefilter(action='ignore', category=DeprecationWarning)"
   ]
  },
  {
   "cell_type": "code",
   "execution_count": 24,
   "id": "ed84528e-ead8-4ee2-8dcf-984d83d94809",
   "metadata": {},
   "outputs": [],
   "source": [
    "def get_santa_rosa_roads_hexid_res(resolution,geometries):\n",
    "    data = None\n",
    "    final_df = pd.DataFrame(data, columns = ['name', 'highway','hex_id'])\n",
    "    count = 0        # counter for every row of original dataframe\n",
    "    deleted = 0\n",
    "\n",
    "    for geometry in geometries:\n",
    "        #print(f'''\\ncalculating rows for geometry-{count}''')\n",
    "        points = list(linestring_to_points(geometry))    \n",
    "        hex_points = []    #hex points in linestring/geometry\n",
    "\n",
    "        #looping through all points\n",
    "        for i in range(1,len(points)):\n",
    "\n",
    "            #h3 hex points corresponding to every point with resolution = 9\n",
    "            #geo_to_h3 takes params in order lat,lng that is y,x of a point\n",
    "            hex_point1 = h3.geo_to_h3(points[i-1][1],points[i-1][0],resolution)\n",
    "            hex_point2 = h3.geo_to_h3(points[i][1],points[i][0],resolution)\n",
    "\n",
    "            #getting list of h3 hexagons falling in the linestring \n",
    "            res = h3.h3_line(hex_point1,hex_point2)\n",
    "\n",
    "            #adding h3 hexagons in list\n",
    "            for j in range(0,len(res)):\n",
    "                hex_points.append(res[j])\n",
    "\n",
    "        #removing duplicate enteries from list\n",
    "        hex_points_final = list(set(hex_points))\n",
    "\n",
    "        #for every h3 hexagon we need to create a separate row, so looping through each entry and creating data for row \n",
    "        #and finally uploading to db\n",
    "\n",
    "        df_arr = []\n",
    "        #print(f'''creating dataframe for geometry-{count}, total rows: {len(hex_points_final)}''')\n",
    "        for hex_point in hex_points_final:\n",
    "            highway = \"\"\n",
    "            if type(edges_original['highway'][count]) == list:\n",
    "                highway = ' '.join(edges_original['highway'][count])\n",
    "            else:\n",
    "                highway = edges_original['highway'][count]\n",
    "\n",
    "            name = \"\"\n",
    "            if type(edges_original['name'][count]) == list:\n",
    "                name = ' '.join(edges_original['name'][count])    \n",
    "            else:\n",
    "                name = edges_original['name'][count]\n",
    "\n",
    "            row = {\n",
    "                \"name\": [name],\n",
    "                \"highway\":[highway],\n",
    "                \"hex_id\":[hex_point]\n",
    "                }\n",
    "            df = pd.DataFrame(row)\n",
    "            df_arr.append(df)\n",
    "\n",
    "        #adding all the dataframe to one final dataframe\n",
    "        tmp_df = None \n",
    "        if len(df_arr) > 0:\n",
    "            tmp_df = pd.concat(df_arr)\n",
    "            final_df = final_df.append(tmp_df)\n",
    "        else:\n",
    "            print(f'''skipping geometry-{count} as no hex found in this''')\n",
    "        count +=1\n",
    "    \n",
    "    return final_df\n",
    "    "
   ]
  },
  {
   "cell_type": "code",
   "execution_count": 40,
   "id": "62876f09-f7e5-46fd-9293-7896a8baf0d7",
   "metadata": {},
   "outputs": [],
   "source": [
    "santa_rosa_roads_hexid_res_10 = get_santa_rosa_roads_hexid_res(10,geometries)"
   ]
  },
  {
   "cell_type": "code",
   "execution_count": 41,
   "id": "4e57df70-b880-4567-8908-c7f23ac707ce",
   "metadata": {},
   "outputs": [],
   "source": [
    "santa_rosa_roads_hexid_res_10.reset_index(inplace = True)"
   ]
  },
  {
   "cell_type": "code",
   "execution_count": 43,
   "id": "49528404-6fea-4021-8b99-4215a65e6388",
   "metadata": {},
   "outputs": [
    {
     "data": {
      "text/html": [
       "<div>\n",
       "<style scoped>\n",
       "    .dataframe tbody tr th:only-of-type {\n",
       "        vertical-align: middle;\n",
       "    }\n",
       "\n",
       "    .dataframe tbody tr th {\n",
       "        vertical-align: top;\n",
       "    }\n",
       "\n",
       "    .dataframe thead th {\n",
       "        text-align: right;\n",
       "    }\n",
       "</style>\n",
       "<table border=\"1\" class=\"dataframe\">\n",
       "  <thead>\n",
       "    <tr style=\"text-align: right;\">\n",
       "      <th></th>\n",
       "      <th>index</th>\n",
       "      <th>name</th>\n",
       "      <th>highway</th>\n",
       "      <th>hex_id</th>\n",
       "    </tr>\n",
       "  </thead>\n",
       "  <tbody>\n",
       "    <tr>\n",
       "      <th>0</th>\n",
       "      <td>0</td>\n",
       "      <td>Main Road</td>\n",
       "      <td>track</td>\n",
       "      <td>8a2912ac0487fff</td>\n",
       "    </tr>\n",
       "    <tr>\n",
       "      <th>1</th>\n",
       "      <td>0</td>\n",
       "      <td>Main Road</td>\n",
       "      <td>track</td>\n",
       "      <td>8a2912ac2bb7fff</td>\n",
       "    </tr>\n",
       "  </tbody>\n",
       "</table>\n",
       "</div>"
      ],
      "text/plain": [
       "   index       name highway           hex_id\n",
       "0      0  Main Road   track  8a2912ac0487fff\n",
       "1      0  Main Road   track  8a2912ac2bb7fff"
      ]
     },
     "execution_count": 43,
     "metadata": {},
     "output_type": "execute_result"
    }
   ],
   "source": [
    "santa_rosa_roads_hexid_res_10.head(2)"
   ]
  },
  {
   "cell_type": "code",
   "execution_count": 44,
   "id": "0a7f803a-b078-46c1-9b72-e0d7d6496067",
   "metadata": {},
   "outputs": [],
   "source": [
    "santa_rosa_roads_hexid_res_10 = santa_rosa_roads_hexid_res_10[['name','highway','hex_id']]"
   ]
  },
  {
   "cell_type": "code",
   "execution_count": 46,
   "id": "b482fe07-4d77-4613-9640-0a1859534cc1",
   "metadata": {},
   "outputs": [],
   "source": [
    "output_path = \"../Data/final_csv/santa_rosa_roads_hexid_res_10.csv\"\n",
    "santa_rosa_roads_hexid_res_10.to_csv(output_path)"
   ]
  },
  {
   "cell_type": "code",
   "execution_count": 47,
   "id": "24ccf9df-6365-4030-8d50-ddf2aefc0582",
   "metadata": {},
   "outputs": [],
   "source": [
    "santa_rosa_roads_hexid_res_10 = None"
   ]
  },
  {
   "cell_type": "code",
   "execution_count": null,
   "id": "f0f360a1-38db-464a-a10e-e5d0d866638e",
   "metadata": {},
   "outputs": [],
   "source": []
  },
  {
   "cell_type": "code",
   "execution_count": 48,
   "id": "67049eb7-a4d6-44b3-a591-a13f5b25f643",
   "metadata": {},
   "outputs": [],
   "source": [
    "santa_rosa_roads_hexid_res_11 = get_santa_rosa_roads_hexid_res(11,geometries)\n",
    "santa_rosa_roads_hexid_res_11.reset_index(inplace = True)\n",
    "santa_rosa_roads_hexid_res_11 = santa_rosa_roads_hexid_res_11[['name','highway','hex_id']]\n",
    "output_path = \"../Data/final_csv/santa_rosa_roads_hexid_res_11.csv\"\n",
    "santa_rosa_roads_hexid_res_11.to_csv(output_path)\n",
    "santa_rosa_roads_hexid_res_11 = None"
   ]
  },
  {
   "cell_type": "code",
   "execution_count": null,
   "id": "1c09882f-a666-4a38-9431-94f5dc59ef31",
   "metadata": {},
   "outputs": [],
   "source": []
  },
  {
   "cell_type": "code",
   "execution_count": 49,
   "id": "ff3c3a26-ceff-4152-a876-76e9c3033aef",
   "metadata": {},
   "outputs": [],
   "source": [
    "santa_rosa_roads_hexid_res_12 = get_santa_rosa_roads_hexid_res(12,geometries)\n",
    "santa_rosa_roads_hexid_res_12.reset_index(inplace = True)\n",
    "santa_rosa_roads_hexid_res_12 = santa_rosa_roads_hexid_res_12[['name','highway','hex_id']]\n",
    "output_path = \"../Data/final_csv/santa_rosa_roads_hexid_res_12.csv\"\n",
    "santa_rosa_roads_hexid_res_12.to_csv(output_path)\n",
    "santa_rosa_roads_hexid_res_12 = None"
   ]
  },
  {
   "cell_type": "code",
   "execution_count": null,
   "id": "58bd329c-52c4-422b-86be-cf8db653310a",
   "metadata": {},
   "outputs": [],
   "source": []
  }
 ],
 "metadata": {
  "kernelspec": {
   "display_name": "conda_py_3.9",
   "language": "python",
   "name": "conda_py_3.9"
  },
  "language_info": {
   "codemirror_mode": {
    "name": "ipython",
    "version": 3
   },
   "file_extension": ".py",
   "mimetype": "text/x-python",
   "name": "python",
   "nbconvert_exporter": "python",
   "pygments_lexer": "ipython3",
   "version": "3.9.11"
  }
 },
 "nbformat": 4,
 "nbformat_minor": 5
}
