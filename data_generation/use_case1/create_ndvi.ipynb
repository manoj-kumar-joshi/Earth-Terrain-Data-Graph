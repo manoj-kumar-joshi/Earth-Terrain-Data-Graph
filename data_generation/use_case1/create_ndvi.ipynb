{
 "cells": [
  {
   "cell_type": "markdown",
   "id": "f04d6abf-983a-47de-9e36-1eb5451d1463",
   "metadata": {},
   "source": [
    "### Importing modules"
   ]
  },
  {
   "cell_type": "code",
   "execution_count": 14,
   "id": "0217ded4-873c-49e0-8a32-17942ab67515",
   "metadata": {},
   "outputs": [],
   "source": [
    "import os\n",
    "import pandas as pd\n",
    "import geopandas as gpd\n",
    "from shapely.wkt import loads\n",
    "import h3"
   ]
  },
  {
   "cell_type": "code",
   "execution_count": null,
   "id": "0202b81a-6503-4fef-87b4-316f7fe3b421",
   "metadata": {},
   "outputs": [],
   "source": []
  },
  {
   "cell_type": "markdown",
   "id": "81a9dfc7-8e82-49c8-b874-cd5761077d87",
   "metadata": {},
   "source": [
    "#### Filter area (channel island)"
   ]
  },
  {
   "cell_type": "code",
   "execution_count": 15,
   "id": "3ef83d84-da59-4f5f-8374-e3846c8de9f5",
   "metadata": {},
   "outputs": [],
   "source": [
    "#channel island area\n",
    "park = pd.read_csv(f'''{os.path.abspath(\"../Data/final_csv\")}/park.csv''')"
   ]
  },
  {
   "cell_type": "code",
   "execution_count": 16,
   "id": "19874a07-7a93-4bd2-bbb0-37e9e9c7f757",
   "metadata": {},
   "outputs": [],
   "source": [
    "park[\"omnisci_geo\"] = park['omnisci_geo'].apply(loads)"
   ]
  },
  {
   "cell_type": "code",
   "execution_count": 17,
   "id": "6c4d5fa0-1f43-4e86-9208-01db3cc11df6",
   "metadata": {},
   "outputs": [
    {
     "data": {
      "text/html": [
       "<div>\n",
       "<style scoped>\n",
       "    .dataframe tbody tr th:only-of-type {\n",
       "        vertical-align: middle;\n",
       "    }\n",
       "\n",
       "    .dataframe tbody tr th {\n",
       "        vertical-align: top;\n",
       "    }\n",
       "\n",
       "    .dataframe thead th {\n",
       "        text-align: right;\n",
       "    }\n",
       "</style>\n",
       "<table border=\"1\" class=\"dataframe\">\n",
       "  <thead>\n",
       "    <tr style=\"text-align: right;\">\n",
       "      <th></th>\n",
       "      <th>omnisci_geo</th>\n",
       "    </tr>\n",
       "  </thead>\n",
       "  <tbody>\n",
       "    <tr>\n",
       "      <th>0</th>\n",
       "      <td>MULTIPOLYGON (((-120.12074 33.89521, -120.1114...</td>\n",
       "    </tr>\n",
       "  </tbody>\n",
       "</table>\n",
       "</div>"
      ],
      "text/plain": [
       "                                         omnisci_geo\n",
       "0  MULTIPOLYGON (((-120.12074 33.89521, -120.1114..."
      ]
     },
     "execution_count": 17,
     "metadata": {},
     "output_type": "execute_result"
    }
   ],
   "source": [
    "park.set_geometry(\"omnisci_geo\")"
   ]
  },
  {
   "cell_type": "code",
   "execution_count": 18,
   "id": "bc3437b6-73ca-4013-8eef-ec0beaa2e116",
   "metadata": {},
   "outputs": [
    {
     "data": {
      "text/plain": [
       "(-120.243988009283, 33.8949272706615, -119.968643160522, 34.0358751332554)"
      ]
     },
     "execution_count": 18,
     "metadata": {},
     "output_type": "execute_result"
    }
   ],
   "source": [
    "park['omnisci_geo'][0].bounds"
   ]
  },
  {
   "cell_type": "code",
   "execution_count": null,
   "id": "7e998e9e-9dec-402c-9aa3-78be45a94ddd",
   "metadata": {},
   "outputs": [],
   "source": []
  },
  {
   "cell_type": "code",
   "execution_count": null,
   "id": "e2488444-84c0-4e19-9c82-4386b523ab0c",
   "metadata": {},
   "outputs": [],
   "source": []
  },
  {
   "cell_type": "markdown",
   "id": "aa4d86e7-eb2b-431e-9f6b-60be1b105f8c",
   "metadata": {},
   "source": [
    "#### _Importing packages_"
   ]
  },
  {
   "cell_type": "code",
   "execution_count": null,
   "id": "ed078512-3af0-4df1-be46-6a9efdd1480a",
   "metadata": {},
   "outputs": [],
   "source": []
  },
  {
   "cell_type": "code",
   "execution_count": 19,
   "id": "201c71e4-efe1-4bd4-a0c6-e29db3c5a3f1",
   "metadata": {},
   "outputs": [],
   "source": [
    "from osgeo import gdal\n",
    "import rasterio\n",
    "import json\n",
    "from rasterio.windows import from_bounds\n",
    "from rasterio.enums import Resampling"
   ]
  },
  {
   "cell_type": "code",
   "execution_count": 20,
   "id": "b93620b2-3432-4437-b886-c699e610fcf3",
   "metadata": {},
   "outputs": [],
   "source": [
    "%run gdal2xyz.ipynb"
   ]
  },
  {
   "cell_type": "code",
   "execution_count": 21,
   "id": "c1be0185-f108-4833-93b6-70dde0cfa1ee",
   "metadata": {},
   "outputs": [],
   "source": [
    "%run helper_functions.ipynb"
   ]
  },
  {
   "cell_type": "markdown",
   "id": "54573908-6059-4aec-8b71-0370a0b0d2f8",
   "metadata": {},
   "source": [
    "#### _creating filtered tiff file for redband file_"
   ]
  },
  {
   "cell_type": "code",
   "execution_count": 22,
   "id": "c66c9551-c1f2-47d9-b11c-cfe055dd013c",
   "metadata": {},
   "outputs": [],
   "source": [
    "#Reading the raster and get the metadata about it like number of bands and CRS\n",
    "rasterMetadata = None\n",
    "redBand_rasterPath = os.path.abspath(\"../Data/images/T10SGC_20220307T184229_B04.jp2\")\n",
    "with rasterio.open(redBand_rasterPath) as src:\n",
    "    rasterMetadata = get_metadata(src,redBand_rasterPath)"
   ]
  },
  {
   "cell_type": "code",
   "execution_count": 23,
   "id": "1f738b47-bfaf-44a3-9b23-fb4887c87375",
   "metadata": {},
   "outputs": [
    {
     "data": {
      "text/plain": [
       "{'height': 10980,\n",
       " 'width': 10980,\n",
       " 'crs': 'EPSG:32610',\n",
       " 'bounds': '{\"bottom\": 3690240.0, \"top\": 3800040.0, \"left\": 699960.0, \"right\": 809760.0}',\n",
       " 'band_count': 1,\n",
       " 'driver': 'JP2OpenJPEG',\n",
       " 'dtype': 'uint16',\n",
       " 'nodata': None,\n",
       " 'name': '/usr/src/manoj/TigerChallenge/final_notebooks/Data/images/T10SGC_20220307T184229_B04',\n",
       " 'affine': '{\"a\": 10.0, \"b\": 0.0, \"c\": 699960.0, \"d\": 0.0, \"e\": -10.0, \"f\": 3800040.0}'}"
      ]
     },
     "execution_count": 23,
     "metadata": {},
     "output_type": "execute_result"
    }
   ],
   "source": [
    "rasterMetadata"
   ]
  },
  {
   "cell_type": "code",
   "execution_count": 24,
   "id": "17c511a6-49c9-416e-89a6-71b1ca31e851",
   "metadata": {},
   "outputs": [],
   "source": [
    "#checking if the raster is in required CRS(EPSG:4326), if not then reproject the raster to required CRS and save the new path\n",
    "final_path_reprojected= \"\"\n",
    "if check_in_correct_crs(rasterMetadata):\n",
    "    final_path_reprojected = redBand_rasterPath\n",
    "else:\n",
    "    final_path_reprojected = do_reprojection(redBand_rasterPath)\n",
    "    rasterMetadata['crs'] = 'EPSG:4326'"
   ]
  },
  {
   "cell_type": "code",
   "execution_count": 25,
   "id": "16638e2e-20a6-47c5-b2a3-809d2509527f",
   "metadata": {},
   "outputs": [
    {
     "data": {
      "text/plain": [
       "'/usr/src/manoj/TigerChallenge/final_notebooks/UC1/temp/T10SGC_20220307T184229_B04.jp2'"
      ]
     },
     "execution_count": 25,
     "metadata": {},
     "output_type": "execute_result"
    }
   ],
   "source": [
    "final_path_reprojected"
   ]
  },
  {
   "cell_type": "code",
   "execution_count": null,
   "id": "f215a4b7-a585-41fe-8d51-c6e2fd2114b8",
   "metadata": {},
   "outputs": [],
   "source": []
  },
  {
   "cell_type": "code",
   "execution_count": 26,
   "id": "e6b61d51-f17b-4f1d-a24f-defe991d66fa",
   "metadata": {},
   "outputs": [],
   "source": [
    "#read a window out of final reprojected file containing our park area\n",
    "from rasterio.mask import mask\n",
    "with rasterio.open(final_path_reprojected) as src:\n",
    "    out_meta = src.meta\n",
    "    out_image, out_transform = mask(src, shapes=park['omnisci_geo'][0], crop=True)\n",
    "    \n",
    "    profile = src.profile\n",
    "    profile[\"height\"] = out_image.shape[1]\n",
    "    profile[\"width\"] = out_image.shape[2]\n",
    "    profile[\"transform\"] = out_transform\n",
    "    \n",
    "    out_meta.update({\"driver\": \"GTiff\",\"height\": out_image.shape[1],\"width\": out_image.shape[2],\"transform\": out_transform})\n",
    "    \n",
    "\n",
    "output_path = os.path.abspath(f\"../Data/masked_images/{os.path.basename(final_path_reprojected).split('.')[0]}.tiff\")\n",
    "with rasterio.open(output_path, \"w\", **out_meta) as dest:\n",
    "    dest.write(out_image)\n",
    "    \n",
    "os.remove(final_path_reprojected)\n",
    "    "
   ]
  },
  {
   "cell_type": "code",
   "execution_count": 27,
   "id": "3883847a-5a60-4708-adb6-834152ebba8a",
   "metadata": {},
   "outputs": [
    {
     "data": {
      "image/png": "[encoded data removed]",
      "text/plain": [
       "<Figure size 432x288 with 1 Axes>"
      ]
     },
     "metadata": {
      "needs_background": "light"
     },
     "output_type": "display_data"
    },
    {
     "data": {
      "text/plain": [
       "<AxesSubplot:>"
      ]
     },
     "execution_count": 27,
     "metadata": {},
     "output_type": "execute_result"
    }
   ],
   "source": [
    "from rasterio.plot import show\n",
    "img = rasterio.open(output_path)\n",
    "show(img)"
   ]
  },
  {
   "cell_type": "code",
   "execution_count": null,
   "id": "75c64775-5136-405a-a1cb-77190d23a6f1",
   "metadata": {},
   "outputs": [],
   "source": []
  },
  {
   "cell_type": "markdown",
   "id": "1b71f10e-3933-408f-afbf-989056af110d",
   "metadata": {},
   "source": [
    "#### reading filtered tiff file in redband dataframe"
   ]
  },
  {
   "cell_type": "code",
   "execution_count": 41,
   "id": "27a882ed-f78e-4184-93f7-ddf79998fc70",
   "metadata": {},
   "outputs": [],
   "source": [
    "RedBandMetadata = None\n",
    "redband_raster = output_path\n",
    "with rasterio.open(redband_raster) as src:\n",
    "    RedBandMetadata = get_metadata(src,redband_raster)"
   ]
  },
  {
   "cell_type": "code",
   "execution_count": 42,
   "id": "c7023857-6f64-4615-838b-aef1de19599b",
   "metadata": {},
   "outputs": [
    {
     "data": {
      "text/plain": [
       "{'height': 1425,\n",
       " 'width': 2783,\n",
       " 'crs': 'EPSG:4326',\n",
       " 'bounds': '{\"bottom\": 33.89492723296544, \"top\": 34.03595769504544, \"left\": -120.24399324639676, \"right\": -119.96856322817315}',\n",
       " 'band_count': 1,\n",
       " 'driver': 'GTiff',\n",
       " 'dtype': 'uint16',\n",
       " 'nodata': None,\n",
       " 'name': '/usr/src/manoj/TigerChallenge/final_notebooks/Data/masked_images/T10SGC_20220307T184229_B04',\n",
       " 'affine': '{\"a\": 9.896874531929724e-05, \"b\": 0.0, \"c\": -120.24399324639676, \"d\": 0.0, \"e\": -9.896874531929724e-05, \"f\": 34.03595769504544}'}"
      ]
     },
     "execution_count": 42,
     "metadata": {},
     "output_type": "execute_result"
    }
   ],
   "source": [
    "RedBandMetadata"
   ]
  },
  {
   "cell_type": "code",
   "execution_count": 43,
   "id": "70e155b2-8c45-478f-aab5-720a21bdd1bb",
   "metadata": {},
   "outputs": [],
   "source": [
    "#to name bands in final csv \n",
    "column_names = []\n",
    "columns = []    \n",
    "for i in range(1,RedBandMetadata['band_count']+1):\n",
    "    column_names.append(f\"band{i}\")\n",
    "    columns.append(i)"
   ]
  },
  {
   "cell_type": "code",
   "execution_count": 44,
   "id": "84b89212-b3d7-4c1d-a9b1-ad5fe55126c0",
   "metadata": {},
   "outputs": [],
   "source": [
    "#using gdal utility gdal2xyz we will convert raster to csv\n",
    "srcfile= redband_raster\n",
    "dstfile= os.path.join(os.path.abspath('../Data/tmp/'),f\"{os.path.basename(redband_raster).split('.')[0]}.csv\")\n",
    "gdal2xyz(srcfile=srcfile,dstfile=dstfile,band_nums=columns)\n"
   ]
  },
  {
   "cell_type": "code",
   "execution_count": 45,
   "id": "58b520bf-3251-4451-8788-72427be341b3",
   "metadata": {},
   "outputs": [],
   "source": [
    "dstfile= os.path.join(os.path.abspath('../Data/tmp/'),f\"{os.path.basename(redband_raster).split('.')[0]}.csv\")"
   ]
  },
  {
   "cell_type": "code",
   "execution_count": 46,
   "id": "99be3cb7-4e4d-4722-8dcf-1e7d50c219eb",
   "metadata": {},
   "outputs": [],
   "source": [
    "tablename = os.path.basename(dstfile)"
   ]
  },
  {
   "cell_type": "code",
   "execution_count": null,
   "id": "c726681c-30f6-41ba-929c-e11dbe9d5a37",
   "metadata": {},
   "outputs": [],
   "source": []
  },
  {
   "cell_type": "code",
   "execution_count": 47,
   "id": "ae9a5396-5355-4780-a891-231e49959687",
   "metadata": {},
   "outputs": [],
   "source": [
    "#by default gdal2xyz utility packs band values in one column with values space separated, \n",
    "#we need to separate these values to separate columns (comma separated)\n",
    "if len(columns)>1:\n",
    "    lines = []\n",
    "    with open(dstfile, mode=\"r+\") as infile:\n",
    "        lines = infile.readlines()\n",
    "\n",
    "    for i in range(0,len(lines)):\n",
    "        lines[i] = lines[i].replace(\" \",\",\")\n",
    "\n",
    "    with open(f\"{os.path.abspath('../Data/final_csv')}/{tablename}\", mode=\"w+\") as outfile:\n",
    "        outfile.writelines(lines)\n",
    "else:\n",
    "    os.system(f'''cp \"{os.path.abspath(\"../Data/tmp\")}/{tablename}\"  \"{os.path.abspath(\"../Data/final_csv\")}/{tablename}\"''')\n",
    "\n",
    "os.remove(dstfile)"
   ]
  },
  {
   "cell_type": "code",
   "execution_count": 48,
   "id": "87db8040-ff07-4d03-bd88-d2f84567abc6",
   "metadata": {},
   "outputs": [
    {
     "data": {
      "text/plain": [
       "['longitude', 'latitude', 'band1']"
      ]
     },
     "execution_count": 48,
     "metadata": {},
     "output_type": "execute_result"
    }
   ],
   "source": [
    "column_names.insert(0,\"longitude\")\n",
    "column_names.insert(1,\"latitude\")\n",
    "column_names"
   ]
  },
  {
   "cell_type": "code",
   "execution_count": null,
   "id": "07b41ef3-92a9-4118-83cd-801662817db1",
   "metadata": {},
   "outputs": [],
   "source": []
  },
  {
   "cell_type": "code",
   "execution_count": 49,
   "id": "24de1ae8-8244-45c6-8445-599f395bc6d6",
   "metadata": {},
   "outputs": [],
   "source": [
    "redband_df = pd.read_csv(f'''{os.path.abspath(\"../Data/final_csv\")}/{tablename}''',names=['lng','lat','redband'])"
   ]
  },
  {
   "cell_type": "code",
   "execution_count": 50,
   "id": "f681d8df-cfd0-49c1-ad78-f1d6b590045c",
   "metadata": {},
   "outputs": [
    {
     "data": {
      "text/html": [
       "<div>\n",
       "<style scoped>\n",
       "    .dataframe tbody tr th:only-of-type {\n",
       "        vertical-align: middle;\n",
       "    }\n",
       "\n",
       "    .dataframe tbody tr th {\n",
       "        vertical-align: top;\n",
       "    }\n",
       "\n",
       "    .dataframe thead th {\n",
       "        text-align: right;\n",
       "    }\n",
       "</style>\n",
       "<table border=\"1\" class=\"dataframe\">\n",
       "  <thead>\n",
       "    <tr style=\"text-align: right;\">\n",
       "      <th></th>\n",
       "      <th>lng</th>\n",
       "      <th>lat</th>\n",
       "      <th>redband</th>\n",
       "    </tr>\n",
       "  </thead>\n",
       "  <tbody>\n",
       "    <tr>\n",
       "      <th>0</th>\n",
       "      <td>-120.243944</td>\n",
       "      <td>34.035908</td>\n",
       "      <td>0</td>\n",
       "    </tr>\n",
       "    <tr>\n",
       "      <th>1</th>\n",
       "      <td>-120.243845</td>\n",
       "      <td>34.035908</td>\n",
       "      <td>0</td>\n",
       "    </tr>\n",
       "  </tbody>\n",
       "</table>\n",
       "</div>"
      ],
      "text/plain": [
       "          lng        lat  redband\n",
       "0 -120.243944  34.035908        0\n",
       "1 -120.243845  34.035908        0"
      ]
     },
     "execution_count": 50,
     "metadata": {},
     "output_type": "execute_result"
    }
   ],
   "source": [
    "redband_df.head(2)"
   ]
  },
  {
   "cell_type": "code",
   "execution_count": 51,
   "id": "394d85fc-9883-4c57-9f09-1cfc487ae021",
   "metadata": {},
   "outputs": [
    {
     "data": {
      "text/plain": [
       "3965775"
      ]
     },
     "execution_count": 51,
     "metadata": {},
     "output_type": "execute_result"
    }
   ],
   "source": [
    "len(redband_df)"
   ]
  },
  {
   "cell_type": "code",
   "execution_count": 52,
   "id": "22383887-cf39-468c-98df-4dcb90d37430",
   "metadata": {},
   "outputs": [],
   "source": [
    "redband_final = redband_df[['lng','lat','redband']]"
   ]
  },
  {
   "cell_type": "code",
   "execution_count": 53,
   "id": "8fb63ae9-aaa5-44c8-a289-4ecd592a258d",
   "metadata": {},
   "outputs": [],
   "source": [
    "redband_df = None"
   ]
  },
  {
   "cell_type": "code",
   "execution_count": 54,
   "id": "ba26918e-396c-4a5f-b45f-7c7f532603c7",
   "metadata": {},
   "outputs": [
    {
     "data": {
      "text/html": [
       "<div>\n",
       "<style scoped>\n",
       "    .dataframe tbody tr th:only-of-type {\n",
       "        vertical-align: middle;\n",
       "    }\n",
       "\n",
       "    .dataframe tbody tr th {\n",
       "        vertical-align: top;\n",
       "    }\n",
       "\n",
       "    .dataframe thead th {\n",
       "        text-align: right;\n",
       "    }\n",
       "</style>\n",
       "<table border=\"1\" class=\"dataframe\">\n",
       "  <thead>\n",
       "    <tr style=\"text-align: right;\">\n",
       "      <th></th>\n",
       "      <th>lng</th>\n",
       "      <th>lat</th>\n",
       "      <th>redband</th>\n",
       "    </tr>\n",
       "  </thead>\n",
       "  <tbody>\n",
       "    <tr>\n",
       "      <th>0</th>\n",
       "      <td>-120.243944</td>\n",
       "      <td>34.035908</td>\n",
       "      <td>0</td>\n",
       "    </tr>\n",
       "    <tr>\n",
       "      <th>1</th>\n",
       "      <td>-120.243845</td>\n",
       "      <td>34.035908</td>\n",
       "      <td>0</td>\n",
       "    </tr>\n",
       "  </tbody>\n",
       "</table>\n",
       "</div>"
      ],
      "text/plain": [
       "          lng        lat  redband\n",
       "0 -120.243944  34.035908        0\n",
       "1 -120.243845  34.035908        0"
      ]
     },
     "execution_count": 54,
     "metadata": {},
     "output_type": "execute_result"
    }
   ],
   "source": [
    "redband_final.head(2)"
   ]
  },
  {
   "cell_type": "code",
   "execution_count": null,
   "id": "acb7e646-d636-45cc-aec5-f5d0a6eb5bf8",
   "metadata": {},
   "outputs": [],
   "source": []
  },
  {
   "cell_type": "code",
   "execution_count": null,
   "id": "f269cb5a-535c-4f95-be53-77bcd227932f",
   "metadata": {},
   "outputs": [],
   "source": []
  },
  {
   "cell_type": "markdown",
   "id": "cabe72e0-d6f1-451f-950c-ad94b76a55cb",
   "metadata": {},
   "source": [
    "#### _creating filtered tiff file for NIR file_"
   ]
  },
  {
   "cell_type": "code",
   "execution_count": 55,
   "id": "a8f0e0dd-e3f9-4cac-a56c-6ea957825708",
   "metadata": {},
   "outputs": [],
   "source": [
    "#Reading the raster and get the metadata about it like number of bands and CRS\n",
    "rasterMetadata = None\n",
    "NIR_rasterPath = os.path.abspath(\"../Data/images/T10SGC_20220307T184229_B08.jp2\")\n",
    "with rasterio.open(NIR_rasterPath) as src:\n",
    "    rasterMetadata = get_metadata(src,NIR_rasterPath)"
   ]
  },
  {
   "cell_type": "code",
   "execution_count": 56,
   "id": "91bf59e0-e9ae-4835-994b-66d2ce90d0c1",
   "metadata": {},
   "outputs": [],
   "source": [
    "#checking if the raster is in required CRS(EPSG:4326), if not then reproject the raster to required CRS and save the new path\n",
    "final_path_reprojected= \"\"\n",
    "if check_in_correct_crs(rasterMetadata):\n",
    "    final_path_reprojected = NIR_rasterPath\n",
    "else:\n",
    "    final_path_reprojected = do_reprojection(NIR_rasterPath)\n",
    "    rasterMetadata['crs'] = 'EPSG:4326'"
   ]
  },
  {
   "cell_type": "code",
   "execution_count": 57,
   "id": "eb3d71fa-0394-49da-bbb3-2bc6ed3705a5",
   "metadata": {},
   "outputs": [
    {
     "data": {
      "text/plain": [
       "'/usr/src/manoj/TigerChallenge/final_notebooks/UC1/temp/T10SGC_20220307T184229_B08.jp2'"
      ]
     },
     "execution_count": 57,
     "metadata": {},
     "output_type": "execute_result"
    }
   ],
   "source": [
    "final_path_reprojected"
   ]
  },
  {
   "cell_type": "code",
   "execution_count": 58,
   "id": "d16b9c98-3975-42a2-9fa0-a3c6265a959d",
   "metadata": {},
   "outputs": [
    {
     "data": {
      "text/plain": [
       "'/usr/src/manoj/TigerChallenge/final_notebooks/Data/masked_images/T10SGC_20220307T184229_B08.tiff'"
      ]
     },
     "execution_count": 58,
     "metadata": {},
     "output_type": "execute_result"
    }
   ],
   "source": [
    "os.path.abspath(f\"../Data/masked_images/{os.path.basename(final_path_reprojected).split('.')[0]}.tiff\")"
   ]
  },
  {
   "cell_type": "code",
   "execution_count": 59,
   "id": "19f467e2-78d2-4af7-b250-9068f1031a23",
   "metadata": {},
   "outputs": [],
   "source": [
    "#read a window out of final reprojected file containing our park area\n",
    "from rasterio.mask import mask\n",
    "with rasterio.open(final_path_reprojected) as src:\n",
    "    out_meta = src.meta\n",
    "    out_image, out_transform = mask(src, shapes=park['omnisci_geo'][0], crop=True)\n",
    "    \n",
    "    profile = src.profile\n",
    "    profile[\"height\"] = out_image.shape[1]\n",
    "    profile[\"width\"] = out_image.shape[2]\n",
    "    profile[\"transform\"] = out_transform\n",
    "    \n",
    "    out_meta.update({\"driver\": \"GTiff\",\"height\": out_image.shape[1],\"width\": out_image.shape[2],\"transform\": out_transform})\n",
    "    \n",
    "\n",
    "output_path = os.path.abspath(f\"../Data/masked_images/{os.path.basename(final_path_reprojected).split('.')[0]}.tiff\")\n",
    "with rasterio.open(output_path, \"w\", **out_meta) as dest:\n",
    "    dest.write(out_image)\n",
    "    \n",
    "os.remove(final_path_reprojected)\n",
    "    "
   ]
  },
  {
   "cell_type": "code",
   "execution_count": 60,
   "id": "413c1130-88ba-4ba9-8eaa-a83a9820e6f2",
   "metadata": {},
   "outputs": [
    {
     "data": {
      "image/png": "[encoded data removed]",
      "text/plain": [
       "<Figure size 432x288 with 1 Axes>"
      ]
     },
     "metadata": {
      "needs_background": "light"
     },
     "output_type": "display_data"
    },
    {
     "data": {
      "text/plain": [
       "<AxesSubplot:>"
      ]
     },
     "execution_count": 60,
     "metadata": {},
     "output_type": "execute_result"
    }
   ],
   "source": [
    "from rasterio.plot import show\n",
    "img = rasterio.open(output_path)\n",
    "show(img)"
   ]
  },
  {
   "cell_type": "code",
   "execution_count": null,
   "id": "b4985caa-abe7-46c8-b266-e28cd1de84a7",
   "metadata": {},
   "outputs": [],
   "source": []
  },
  {
   "cell_type": "markdown",
   "id": "1371d6ef-937f-4bf8-9e5d-10a6e0315263",
   "metadata": {},
   "source": [
    "#### reading filtered tiff file for NIR band"
   ]
  },
  {
   "cell_type": "code",
   "execution_count": 61,
   "id": "15ceb1c4-1eff-47d4-9dcc-e54f504c353d",
   "metadata": {},
   "outputs": [],
   "source": [
    "NIRMetadata = None\n",
    "NIR_raster = output_path\n",
    "with rasterio.open(NIR_raster) as src:\n",
    "    NIRMetadata = get_metadata(src,NIR_raster)"
   ]
  },
  {
   "cell_type": "code",
   "execution_count": 62,
   "id": "1b122569-27a4-407f-8a5c-9fc52f98f6b9",
   "metadata": {},
   "outputs": [
    {
     "data": {
      "text/plain": [
       "{'height': 1425,\n",
       " 'width': 2783,\n",
       " 'crs': 'EPSG:4326',\n",
       " 'bounds': '{\"bottom\": 33.89492723296544, \"top\": 34.03595769504544, \"left\": -120.24399324639676, \"right\": -119.96856322817315}',\n",
       " 'band_count': 1,\n",
       " 'driver': 'GTiff',\n",
       " 'dtype': 'uint16',\n",
       " 'nodata': None,\n",
       " 'name': '/usr/src/manoj/TigerChallenge/final_notebooks/Data/masked_images/T10SGC_20220307T184229_B08',\n",
       " 'affine': '{\"a\": 9.896874531929724e-05, \"b\": 0.0, \"c\": -120.24399324639676, \"d\": 0.0, \"e\": -9.896874531929724e-05, \"f\": 34.03595769504544}'}"
      ]
     },
     "execution_count": 62,
     "metadata": {},
     "output_type": "execute_result"
    }
   ],
   "source": [
    "NIRMetadata"
   ]
  },
  {
   "cell_type": "code",
   "execution_count": 63,
   "id": "bccbf708-38f6-4e70-8cf1-5fd660c90a29",
   "metadata": {},
   "outputs": [],
   "source": [
    "#to name bands in final csv \n",
    "column_names = []\n",
    "columns = []    \n",
    "for i in range(1,NIRMetadata['band_count']+1):\n",
    "    column_names.append(f\"band{i}\")\n",
    "    columns.append(i)"
   ]
  },
  {
   "cell_type": "code",
   "execution_count": 64,
   "id": "827bfeea-01da-4681-b7af-56def0c57974",
   "metadata": {},
   "outputs": [],
   "source": [
    "#using gdal utility gdal2xyz we will convert raster to csv\n",
    "srcfile= NIR_raster\n",
    "dstfile= os.path.join(os.path.abspath('../Data/tmp/'),f\"{os.path.basename(NIR_raster).split('.')[0]}.csv\")\n",
    "gdal2xyz(srcfile=srcfile,dstfile=dstfile,band_nums=columns)\n"
   ]
  },
  {
   "cell_type": "code",
   "execution_count": 65,
   "id": "8bf63342-53c8-484b-a9cc-84260f3cd33f",
   "metadata": {},
   "outputs": [],
   "source": [
    "dstfile= os.path.join(os.path.abspath('../Data/tmp/'),f\"{os.path.basename(NIR_raster).split('.')[0]}.csv\")"
   ]
  },
  {
   "cell_type": "code",
   "execution_count": 66,
   "id": "e7f2322b-0e20-480b-8d05-59c7a341f74b",
   "metadata": {},
   "outputs": [],
   "source": [
    "tablename = os.path.basename(dstfile)"
   ]
  },
  {
   "cell_type": "code",
   "execution_count": 67,
   "id": "239c5eca-80fd-4229-8b18-6abc7283a444",
   "metadata": {},
   "outputs": [],
   "source": [
    "#by default gdal2xyz utility packs band values in one column with values space separated, \n",
    "#we need to separate these values to separate columns (comma separated)\n",
    "if len(columns)>1:\n",
    "    lines = []\n",
    "    with open(dstfile, mode=\"r+\") as infile:\n",
    "        lines = infile.readlines()\n",
    "\n",
    "    for i in range(0,len(lines)):\n",
    "        lines[i] = lines[i].replace(\" \",\",\")\n",
    "\n",
    "    with open(f\"{os.path.abspath('../Data/final_csv')}/{tablename}\", mode=\"w+\") as outfile:\n",
    "        outfile.writelines(lines)\n",
    "else:\n",
    "    os.system(f'''cp \"{os.path.abspath(\"../Data/tmp\")}/{tablename}\"  \"{os.path.abspath(\"../Data/final_csv\")}/{tablename}\"''')\n",
    "\n",
    "os.remove(dstfile)"
   ]
  },
  {
   "cell_type": "code",
   "execution_count": 68,
   "id": "82afcaaa-f24a-4b65-933e-aa3a778ee950",
   "metadata": {},
   "outputs": [
    {
     "data": {
      "text/plain": [
       "['longitude', 'latitude', 'band1']"
      ]
     },
     "execution_count": 68,
     "metadata": {},
     "output_type": "execute_result"
    }
   ],
   "source": [
    "column_names.insert(0,\"longitude\")\n",
    "column_names.insert(1,\"latitude\")\n",
    "column_names"
   ]
  },
  {
   "cell_type": "code",
   "execution_count": null,
   "id": "743ebaa7-75ab-4aef-8d58-7986240bc28b",
   "metadata": {},
   "outputs": [],
   "source": []
  },
  {
   "cell_type": "code",
   "execution_count": 69,
   "id": "2d0cdf21-c523-4d20-899f-80221583a07a",
   "metadata": {},
   "outputs": [],
   "source": [
    "NIR_df = pd.read_csv(f'''{os.path.abspath(\"../Data/final_csv\")}/{tablename}''',names=['lng','lat','nir'])"
   ]
  },
  {
   "cell_type": "code",
   "execution_count": 70,
   "id": "28a5993e-aa4c-4da2-a9a6-ee30ec3b8d01",
   "metadata": {},
   "outputs": [],
   "source": [
    "NIR_final = NIR_df[['lng','lat','nir']]"
   ]
  },
  {
   "cell_type": "code",
   "execution_count": 71,
   "id": "a9d8bce2-e93e-4bf4-9d2a-b7cd0dd99728",
   "metadata": {},
   "outputs": [],
   "source": [
    "NIR_df = None"
   ]
  },
  {
   "cell_type": "code",
   "execution_count": 72,
   "id": "8d931a09-3cfd-4d4d-978b-33485e1e4c4d",
   "metadata": {},
   "outputs": [
    {
     "data": {
      "text/html": [
       "<div>\n",
       "<style scoped>\n",
       "    .dataframe tbody tr th:only-of-type {\n",
       "        vertical-align: middle;\n",
       "    }\n",
       "\n",
       "    .dataframe tbody tr th {\n",
       "        vertical-align: top;\n",
       "    }\n",
       "\n",
       "    .dataframe thead th {\n",
       "        text-align: right;\n",
       "    }\n",
       "</style>\n",
       "<table border=\"1\" class=\"dataframe\">\n",
       "  <thead>\n",
       "    <tr style=\"text-align: right;\">\n",
       "      <th></th>\n",
       "      <th>lng</th>\n",
       "      <th>lat</th>\n",
       "      <th>nir</th>\n",
       "    </tr>\n",
       "  </thead>\n",
       "  <tbody>\n",
       "    <tr>\n",
       "      <th>0</th>\n",
       "      <td>-120.243944</td>\n",
       "      <td>34.035908</td>\n",
       "      <td>0</td>\n",
       "    </tr>\n",
       "    <tr>\n",
       "      <th>1</th>\n",
       "      <td>-120.243845</td>\n",
       "      <td>34.035908</td>\n",
       "      <td>0</td>\n",
       "    </tr>\n",
       "  </tbody>\n",
       "</table>\n",
       "</div>"
      ],
      "text/plain": [
       "          lng        lat  nir\n",
       "0 -120.243944  34.035908    0\n",
       "1 -120.243845  34.035908    0"
      ]
     },
     "execution_count": 72,
     "metadata": {},
     "output_type": "execute_result"
    }
   ],
   "source": [
    "NIR_final.head(2)"
   ]
  },
  {
   "cell_type": "code",
   "execution_count": null,
   "id": "679ea514-eb0c-42da-8ebc-d00a65aaa9bf",
   "metadata": {},
   "outputs": [],
   "source": []
  },
  {
   "cell_type": "code",
   "execution_count": null,
   "id": "841f7f4c-d370-4f1f-ab2c-069531eb3f43",
   "metadata": {},
   "outputs": [],
   "source": []
  },
  {
   "cell_type": "markdown",
   "id": "a68b987b-8975-4313-b428-010a20c43b68",
   "metadata": {},
   "source": [
    "#### ndvi calculation"
   ]
  },
  {
   "cell_type": "code",
   "execution_count": 73,
   "id": "5af4b7e8-1ebb-4ab4-88f1-bd264c59dd78",
   "metadata": {},
   "outputs": [],
   "source": [
    "ndvi_df = None"
   ]
  },
  {
   "cell_type": "code",
   "execution_count": 74,
   "id": "d3c22780-5739-4031-a182-9966785441bb",
   "metadata": {},
   "outputs": [],
   "source": [
    "#function to calculate ndvi value\n",
    "def cal_ndvi(row):\n",
    "    if row['nir'] == 0 and row['redband']==0:\n",
    "        return 0\n",
    "    else:\n",
    "        ndvi = (row['nir'] - row['redband'])/(row['nir'] + row['redband'])\n",
    "        return ndvi"
   ]
  },
  {
   "cell_type": "code",
   "execution_count": null,
   "id": "56e4cd9c-f7a3-4a21-be20-2f4c49d53995",
   "metadata": {},
   "outputs": [],
   "source": []
  },
  {
   "cell_type": "code",
   "execution_count": 75,
   "id": "74b418c7-59c2-4c5e-852d-138489c88fff",
   "metadata": {},
   "outputs": [],
   "source": [
    "#function to calculate ndvi values for different resolutions of h3 (grouping on h3 index values of different resolutions)\n",
    "def get_ndvi_at_res(redband_original,nir_original,res):\n",
    "    \n",
    "    redband_original['h3_index'] = ''\n",
    "    nir_original['h3_index'] = ''\n",
    "    \n",
    "    print(\"calculating hex ids\")\n",
    "    \n",
    "    redband_original['h3_index'] = redband_original.apply(lambda row: h3.geo_to_h3(row['lat'],row['lng'],res),axis=1)\n",
    "    nir_original['h3_index'] = nir_original.apply(lambda row: h3.geo_to_h3(row['lat'],row['lng'],res),axis=1)\n",
    "    \n",
    "    print(\"merging redband and NIR dataframes\")\n",
    "    #merging both dataframe with lat long values equality condition\n",
    "    ndvi_df = redband_original.merge(nir_original[['nir','lng','lat']], on = ['lng','lat'], how = 'outer')\n",
    "    \n",
    "    print(\"calculating ndvi values\")\n",
    "    ndvi_df['ndvi'] = ndvi_df.apply(lambda row: cal_ndvi(row),axis=1)\n",
    "    \n",
    "    print(\"grouping the ndvi dataframe on h3_index\")\n",
    "    ndvi_grpby = ndvi_df.groupby('h3_index').mean().reset_index()\n",
    "    ndvi_grpby = ndvi_grpby[['lng','lat','h3_index','ndvi']]\n",
    "    \n",
    "    ndvi_df = None\n",
    "    \n",
    "    return ndvi_grpby"
   ]
  },
  {
   "cell_type": "code",
   "execution_count": 76,
   "id": "feaf7179-40e5-41ee-838a-5ed0bd8cd665",
   "metadata": {},
   "outputs": [
    {
     "name": "stdout",
     "output_type": "stream",
     "text": [
      "calculating hex ids\n",
      "merging redband and NIR dataframes\n",
      "calculating ndvi values\n",
      "grouping the ndvi dataframe on h3_index\n"
     ]
    },
    {
     "data": {
      "text/plain": [
       "24381"
      ]
     },
     "execution_count": 76,
     "metadata": {},
     "output_type": "execute_result"
    }
   ],
   "source": [
    "ndvi_res_10 = get_ndvi_at_res(redband_final,NIR_final,10)\n",
    "len(ndvi_res_10)"
   ]
  },
  {
   "cell_type": "code",
   "execution_count": 77,
   "id": "90a9f119-a07c-4b52-92b6-e8af42aee3f2",
   "metadata": {},
   "outputs": [],
   "source": [
    "ndvi_res_10.to_csv(f\"{os.path.abspath('../Data/final_csv/ndvi_res_10')}.csv\")\n",
    "ndvi_res_10 = None"
   ]
  },
  {
   "cell_type": "code",
   "execution_count": 78,
   "id": "8fcaf81b-45e7-40c5-9de3-5a634a9f2802",
   "metadata": {},
   "outputs": [
    {
     "name": "stdout",
     "output_type": "stream",
     "text": [
      "calculating hex ids\n",
      "merging redband and NIR dataframes\n",
      "calculating ndvi values\n",
      "grouping the ndvi dataframe on h3_index\n"
     ]
    }
   ],
   "source": [
    "ndvi_res_11 = get_ndvi_at_res(redband_final,NIR_final,11)"
   ]
  },
  {
   "cell_type": "code",
   "execution_count": 79,
   "id": "a6987565-6023-4afa-8816-e9e91f47d10b",
   "metadata": {},
   "outputs": [
    {
     "data": {
      "text/plain": [
       "168956"
      ]
     },
     "execution_count": 79,
     "metadata": {},
     "output_type": "execute_result"
    }
   ],
   "source": [
    "len(ndvi_res_11)"
   ]
  },
  {
   "cell_type": "code",
   "execution_count": 80,
   "id": "956f5a71-77ce-4ed9-bb70-12e7a6564cec",
   "metadata": {},
   "outputs": [],
   "source": [
    "ndvi_res_11.to_csv(f\"{os.path.abspath('../Data/final_csv/ndvi_res_11')}.csv\")\n",
    "ndvi_res_11 = None"
   ]
  },
  {
   "cell_type": "code",
   "execution_count": 81,
   "id": "463e86ee-2425-4e29-b29a-131e13dfbad1",
   "metadata": {},
   "outputs": [
    {
     "name": "stdout",
     "output_type": "stream",
     "text": [
      "calculating hex ids\n",
      "merging redband and NIR dataframes\n",
      "calculating ndvi values\n",
      "grouping the ndvi dataframe on h3_index\n"
     ]
    }
   ],
   "source": [
    "ndvi_res_12 = get_ndvi_at_res(redband_final,NIR_final,12)"
   ]
  },
  {
   "cell_type": "code",
   "execution_count": 82,
   "id": "97136c6a-5a0d-41b2-904a-229f130bf3de",
   "metadata": {},
   "outputs": [
    {
     "data": {
      "text/plain": [
       "1178451"
      ]
     },
     "execution_count": 82,
     "metadata": {},
     "output_type": "execute_result"
    }
   ],
   "source": [
    "len(ndvi_res_12)"
   ]
  },
  {
   "cell_type": "code",
   "execution_count": 83,
   "id": "bcd3d7c6-e6aa-49a2-a8c6-7d91a37e1377",
   "metadata": {},
   "outputs": [],
   "source": [
    "ndvi_res_12.to_csv(f\"{os.path.abspath('../Data/final_csv/ndvi_res_12')}.csv\")\n",
    "ndvi_res_12 = None"
   ]
  },
  {
   "cell_type": "code",
   "execution_count": null,
   "id": "6a661185-ea68-4f2f-b308-8548a7b93e98",
   "metadata": {},
   "outputs": [],
   "source": []
  }
 ],
 "metadata": {
  "kernelspec": {
   "display_name": "conda_py_3.9",
   "language": "python",
   "name": "conda_py_3.9"
  },
  "language_info": {
   "codemirror_mode": {
    "name": "ipython",
    "version": 3
   },
   "file_extension": ".py",
   "mimetype": "text/x-python",
   "name": "python",
   "nbconvert_exporter": "python",
   "pygments_lexer": "ipython3",
   "version": "3.9.11"
  }
 },
 "nbformat": 4,
 "nbformat_minor": 5
}
